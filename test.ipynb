{
 "cells": [
  {
   "cell_type": "code",
   "execution_count": 10,
   "metadata": {},
   "outputs": [
    {
     "name": "stdout",
     "output_type": "stream",
     "text": [
      "[[0.91940983 0.93339765 0.11301    0.17831992 0.41084046 0.63532027\n",
      "  0.27930495 0.90814928 0.38063034 0.64419717 0.867867   0.00772446\n",
      "  0.42322764 0.20541465 0.64621664 0.27987421 0.02676313 0.64157435\n",
      "  0.97508872 0.77807892]]\n",
      "(1, 20)\n",
      "[0.78947368 0.73684211 0.         0.94736842 1.         0.36842105\n",
      " 0.52631579 0.57894737 0.89473684 0.31578947 0.42105263 0.84210526\n",
      " 0.05263158 0.15789474 0.47368421 0.10526316 0.68421053 0.26315789\n",
      " 0.63157895 0.21052632]\n"
     ]
    }
   ],
   "source": [
    "import numpy as np\n",
    "rand_array = np.random.rand(1, 20)\n",
    "\n",
    "# 打印数组和它的形状\n",
    "print(rand_array)\n",
    "print(rand_array.shape)\n",
    "\n",
    "n=20\n",
    "greedy = np.array([4 ,3, 8,11,  0,  1, 16, 18,  7,  6, 14, 10,  5,  9, 17, 19, 13, 15, 12,  2])\n",
    "act = np.linspace(1,0,n)\n",
    "act_sorted = np.zeros_like(act)\n",
    "# for i in range(act.shape[0]):\n",
    "#     act_sorted[greedy[i]] = act[i]\n",
    "# print(act_sorted)\n",
    "act_sorted[greedy] = act\n",
    "print(act_sorted)"
   ]
  },
  {
   "cell_type": "code",
   "execution_count": 11,
   "metadata": {},
   "outputs": [
    {
     "name": "stdout",
     "output_type": "stream",
     "text": [
      "[(3, 2), (1, 3), (2, 3), (3, 3), (1, 4), (2, 4), (0, 2), (0, 5)]\n"
     ]
    }
   ],
   "source": [
    "arr = [(0,2),(0,5),(1,3),(1,4),(2,3),(2,4),(3,2),(3,3)]\n",
    "arr = sorted(arr, key = lambda x:(x[0]==0, x[1]))\n",
    "print(arr)"
   ]
  }
 ],
 "metadata": {
  "kernelspec": {
   "display_name": "tianshou3",
   "language": "python",
   "name": "python3"
  },
  "language_info": {
   "codemirror_mode": {
    "name": "ipython",
    "version": 3
   },
   "file_extension": ".py",
   "mimetype": "text/x-python",
   "name": "python",
   "nbconvert_exporter": "python",
   "pygments_lexer": "ipython3",
   "version": "3.11.7"
  }
 },
 "nbformat": 4,
 "nbformat_minor": 2
}
