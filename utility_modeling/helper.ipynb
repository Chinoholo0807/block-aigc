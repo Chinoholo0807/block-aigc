{
 "cells": [
  {
   "attachments": {},
   "cell_type": "markdown",
   "metadata": {},
   "source": [
    "## test cuda available"
   ]
  },
  {
   "cell_type": "code",
   "execution_count": 1,
   "metadata": {},
   "outputs": [
    {
     "name": "stdout",
     "output_type": "stream",
     "text": [
      "torch version: 2.1.2+cu118\n",
      "cuda version: 11.8\n",
      "cuda available\n",
      "muti device count: 4\n"
     ]
    }
   ],
   "source": [
    "\n",
    "import torch\n",
    "print('torch version:', torch.__version__)\n",
    "print('cuda version:', torch.version.cuda)\n",
    "if torch.cuda.is_available():\n",
    "    print('cuda available')\n",
    "else:\n",
    "    print('cuda unavailable')\n",
    "print('muti device count:', torch.cuda.device_count())"
   ]
  },
  {
   "cell_type": "code",
   "execution_count": 6,
   "metadata": {},
   "outputs": [
    {
     "name": "stdout",
     "output_type": "stream",
     "text": [
      "tensor([[1, 4],\n",
      "        [3, 6]])\n",
      "tensor([[1, 2, 2],\n",
      "        [4, 3, 3],\n",
      "        [6, 6, 5]])\n"
     ]
    }
   ],
   "source": [
    "import torch\n",
    "input = torch.tensor([[1, 2], [3, 4], [5, 6]])\n",
    "index = torch.tensor([[0, 1], [1, 2]])\n",
    "# (0->1,0)(0->1,1) , (1->1,0)(1->2,1)\n",
    "output = torch.gather(input, dim=0, index=index)\n",
    "print(output)\n",
    "\n",
    "index = torch.tensor([[0, 1, 1], [1, 0, 0], [1, 1, 0]])\n",
    "# (0,0)(0,1)(0,1) , (1,0->1)(1,1->0)(1,1->0) , (2,0->1)(2,1->1)（2，2->0)\n",
    "output = torch.gather(input, dim=1, index=index)\n",
    "print(output)"
   ]
  },
  {
   "cell_type": "code",
   "execution_count": 8,
   "metadata": {},
   "outputs": [
    {
     "name": "stdout",
     "output_type": "stream",
     "text": [
      "[3]\n",
      "torch.Size([3])\n",
      "tensor([1., 3., 5.])\n"
     ]
    }
   ],
   "source": [
    "def extract(v, t, x_shape):\n",
    "    \"\"\"\n",
    "    Extract some coefficients at specified timesteps, then reshape to\n",
    "    [batch_size, 1, 1, 1, 1, ...] for broadcasting purposes.\n",
    "    \"\"\"\n",
    "    device = t.device\n",
    "    out = torch.gather(v, index=t, dim=0).float().to(device)\n",
    "    print([t.shape[0]] + [1] * (len(x_shape) - 1))\n",
    "    return out.view([t.shape[0]] + [1] * (len(x_shape) - 1))\n",
    "\n",
    "\n",
    "v = torch.tensor([1, 2, 3, 4, 5])\n",
    "t = torch.tensor([0, 2, 4])\n",
    "out = extract(v, t, x_shape=(len(t),))\n",
    "print(out.shape)\n",
    "print(out)"
   ]
  },
  {
   "cell_type": "code",
   "execution_count": 9,
   "metadata": {},
   "outputs": [
    {
     "name": "stdout",
     "output_type": "stream",
     "text": [
      "torch.Size([3])\n",
      "tensor([1.0000, 0.1000, 0.2000])\n"
     ]
    }
   ],
   "source": [
    "import torch.nn.functional as F\n",
    "import torch\n",
    "\n",
    "alphas_bar = torch.tensor([0.1, 0.2, 0.3, 0.4, 0.5])\n",
    "T = 3\n",
    "\n",
    "alphas_bar_prev = F.pad(alphas_bar, [1, 0], value=1)[:T]\n",
    "\n",
    "print(alphas_bar_prev.shape)\n",
    "print(alphas_bar_prev)"
   ]
  },
  {
   "cell_type": "code",
   "execution_count": 11,
   "metadata": {},
   "outputs": [
    {
     "name": "stdout",
     "output_type": "stream",
     "text": [
      "_ts.shape: torch.Size([4])\n",
      "beta_t.shape torch.Size([11])\n",
      "x.shape: torch.Size([4, 3, 32, 32])\n",
      "eps.shape: torch.Size([4, 3, 32, 32])\n",
      "sqrtab_extract.shape torch.Size([4, 1, 1, 1])\n",
      "x_t.shape torch.Size([4, 3, 32, 32])\n",
      "_ti.shape: torch.Size([4, 1]) \n",
      "_ti: tensor([[0.5000],\n",
      "        [0.5000],\n",
      "        [0.5000],\n",
      "        [0.5000]])\n"
     ]
    }
   ],
   "source": [
    "import torch\n",
    "\n",
    "n_T = 10\n",
    "batch_size = 4\n",
    "_ts = torch.randint(1, n_T + 1, (batch_size,))\n",
    "print('_ts.shape:', _ts.shape)\n",
    "\n",
    "beta2 = 0.02\n",
    "beta1 = 1e-4\n",
    "beta_t = (beta2 - beta1) * torch.arange(0, n_T +\n",
    "                                        1, dtype=torch.float32) / n_T + beta1\n",
    "sqrt_beta_t = torch.sqrt(beta_t)\n",
    "alpha_t = 1 - beta_t\n",
    "log_alpha_t = torch.log(alpha_t)\n",
    "alphabar_t = torch.cumsum(log_alpha_t, dim=0).exp()\n",
    "sqrtab = torch.sqrt(alphabar_t)\n",
    "oneover_sqrta = 1 / torch.sqrt(alpha_t)\n",
    "sqrtmab = torch.sqrt(1 - alphabar_t)\n",
    "mab_over_sqrtmab_inv = (1 - alpha_t) / sqrtmab\n",
    "print('beta_t.shape', beta_t.shape)\n",
    "\n",
    "x = torch.randn((batch_size, 3, 32, 32))\n",
    "eps = torch.randn_like(x)\n",
    "print('x.shape:', x.shape)\n",
    "print('eps.shape:', eps.shape)\n",
    "print('sqrtab_extract.shape', sqrtab[_ts, None, None, None].shape)\n",
    "x_t = (\n",
    "    sqrtab[_ts, None, None, None] * x\n",
    "    + sqrtmab[_ts, None, None, None] * eps\n",
    ")\n",
    "print('x_t.shape', x_t.shape)\n",
    "\n",
    "simple_i = 5\n",
    "# repeat(*sizes)函数可以将一个张量在指定的维度上重复多次\n",
    "_ti = torch.tensor(simple_i/n_T).repeat(batch_size, 1)\n",
    "print('_ti.shape:', _ti.shape, '\\n_ti:', _ti)"
   ]
  },
  {
   "cell_type": "code",
   "execution_count": 17,
   "metadata": {},
   "outputs": [
    {
     "name": "stdout",
     "output_type": "stream",
     "text": [
      "trans_data= {0.0: [[0, 0.0], [600, 0.3273999999999999], [1000, 0.383], [1600, 0.4768], [3000, 0.484], [4000, 0.4841], [5000, 0.4978], [6000, 0.506]], 0.4: [[0, 0.0], [600, 0.2779999999999999], [1000, 0.30599999999999994], [1600, 0.42490000000000006], [3000, 0.471], [4000, 0.46619999999999995], [5000, 0.46229999999999993], [6000, 0.4881]], 0.8: [[0, 0.0], [600, 0.21589999999999998], [1000, 0.2618999999999999], [1600, 0.40859999999999996], [3000, 0.4261999999999999], [4000, 0.41100000000000003], [5000, 0.4282], [6000, 0.43710000000000004]], 1.0: [[0, 0.0], [600, 0.13049999999999995], [1000, 0.1955], [1600, 0.34010000000000007], [3000, 0.37049999999999994], [4000, 0.3943], [5000, 0.394], [6000, 0.41590000000000005]]}\n",
      "datasizes: [0.0, 600.0, 1000.0, 1600.0, 3000.0, 4000.0, 5000.0, 6000.0, 0.0, 600.0, 1000.0, 1600.0, 3000.0, 4000.0, 5000.0, 6000.0, 0.0, 600.0, 1000.0, 1600.0, 3000.0, 4000.0, 5000.0, 6000.0, 0.0, 600.0, 1000.0, 1600.0, 3000.0, 4000.0, 5000.0, 6000.0]\n",
      "emds: [0.0, 0.0, 0.0, 0.0, 0.0, 0.0, 0.0, 0.0, 0.4, 0.4, 0.4, 0.4, 0.4, 0.4, 0.4, 0.4, 0.8, 0.8, 0.8, 0.8, 0.8, 0.8, 0.8, 0.8, 1.0, 1.0, 1.0, 1.0, 1.0, 1.0, 1.0, 1.0]\n",
      "fids: [0.0, 0.3273999999999999, 0.383, 0.4768, 0.484, 0.4841, 0.4978, 0.506, 0.0, 0.2779999999999999, 0.30599999999999994, 0.42490000000000006, 0.471, 0.46619999999999995, 0.46229999999999993, 0.4881, 0.0, 0.21589999999999998, 0.2618999999999999, 0.40859999999999996, 0.4261999999999999, 0.41100000000000003, 0.4282, 0.43710000000000004, 0.0, 0.13049999999999995, 0.1955, 0.34010000000000007, 0.37049999999999994, 0.3943, 0.394, 0.41590000000000005]\n",
      "popt: [ 1.05929976  0.00754265  0.12761403 -0.1480588   1.13964024  0.42965643\n",
      "  0.986706  ]\n"
     ]
    },
    {
     "name": "stderr",
     "output_type": "stream",
     "text": [
      "/tmp/ipykernel_16974/2182133015.py:111: RuntimeWarning: divide by zero encountered in power\n",
      "  ret = k6 * (emd - k1*np.exp(-k2*np.power(k3*ds, k7*emd)))\n"
     ]
    },
    {
     "data": {
      "image/png": "[encoded data removed]",
      "text/plain": [
       "<Figure size 512x384 with 1 Axes>"
      ]
     },
     "metadata": {},
     "output_type": "display_data"
    }
   ],
   "source": [
    "\n",
    "# python -m pytorch_fid extra/fed_emd/2024-05-09-00:19:50/emd/dst extra/fed_emd/2024-05-09-00:19:50/emd/src --device=cuda:2\n",
    "# python -m pytorch_fid extra/fed_emd/2024-05-09-01:45:48/emd/dst extra/fed_emd/2024-05-09-01:45:48/emd/src --device=cuda:2\n",
    "from scipy.optimize import curve_fit\n",
    "import numpy as np\n",
    "import matplotlib.pyplot as plt\n",
    "emd_data = {\n",
    "    0: [\n",
    "        [0, 100],\n",
    "        [2, 100],\n",
    "        [4, 100],\n",
    "        [5, 100],\n",
    "    ],\n",
    "    600: [\n",
    "        [0, 67.26],  # 61.66\n",
    "        [2, 72.2],  # 72.93\n",
    "        [4, 78.41],  # 72.95\n",
    "        [5, 86.95],  # 74.05\n",
    "    ],\n",
    "    1000: [\n",
    "        [0, 61.70],\n",
    "        [2, 69.40],\n",
    "        [4, 73.81],\n",
    "        [5, 80.45],  # 73.45 trick\n",
    "    ],\n",
    "    1600: [\n",
    "        [0, 52.32],\n",
    "        [2, 57.51],  # 61.94\n",
    "        [4, 59.14],\n",
    "        [5, 65.99],  # 59.33 trick\n",
    "    ],\n",
    "    # 2000:[\n",
    "    #     [0, 52.78],\n",
    "    #     [2, 57.36],\n",
    "    #     [4, 59.02], # 63.91\n",
    "    #     [5, 56.53], # 56.81\n",
    "    # ],\n",
    "    3000: [\n",
    "        [0, 51.60],  # 49.91\n",
    "        [2, 52.90],  # 59.8\n",
    "        [4, 57.38],  # 54.20\n",
    "        [5, 62.95],  # trick\n",
    "    ],\n",
    "    4000: [\n",
    "        [0, 51.59],  # todo\n",
    "        [2, 53.38],  # trick\n",
    "        [4, 58.90],\n",
    "        [5, 60.57],\n",
    "    ],\n",
    "    5000: [\n",
    "        [0, 50.22],\n",
    "        [2, 53.77],\n",
    "        [4, 57.18],\n",
    "        [5, 60.6],\n",
    "    ],\n",
    "    6000: [\n",
    "        [0, 49.40],\n",
    "        [2, 51.19],\n",
    "        [4, 56.29],\n",
    "        [5, 58.41],\n",
    "    ],\n",
    "}\n",
    "\n",
    "trans_data = {}\n",
    "total_images = [k for k in emd_data.keys()]\n",
    "for i in range(len(emd_data[total_images[0]])):\n",
    "    emd = emd_data[total_images[0]][i][0] * 0.2\n",
    "    # print(\"emd:\",emd)\n",
    "    trans_data[emd] = []\n",
    "    for total_image in total_images:\n",
    "        trans_data[emd].append(\n",
    "            [total_image, 1-0.01*emd_data[total_image][i][1]])\n",
    "print(\"trans_data=\", trans_data)\n",
    "\n",
    "# 使用plt绘制trans_data的点图并使用曲线拟合,x轴为数据量,y轴为fid,不同曲线代表不同emd\n",
    "plt.xlabel('Total Images')\n",
    "plt.ylabel('Training Rewrad of Task')\n",
    "# plt.rc('font', family='Times New Roman')\n",
    "plt.rcParams.update({'font.size': 10})\n",
    "plt.rcParams['figure.dpi'] = 80\n",
    "plt.grid(True)\n",
    "\n",
    "for emd in trans_data.keys():\n",
    "    trans_data[emd] = np.array(trans_data[emd])\n",
    "    plt.scatter(trans_data[emd][:, 0], trans_data[emd][:, 1],\n",
    "             label=f\"Real Data(emd={emd})\", marker='v')\n",
    "    plt.legend()\n",
    "\n",
    "\n",
    "# 编写函数拟合曲线，fid与数据量datasize和emd的关系\n",
    "datasizes = []\n",
    "emds = []\n",
    "fids = []\n",
    "for emd in trans_data.keys():\n",
    "    for item in trans_data[emd]:\n",
    "        emds.append(emd)\n",
    "        datasizes.append(item[0])\n",
    "        fids.append(item[1])\n",
    "print(\"datasizes:\", datasizes)\n",
    "print(\"emds:\", emds)\n",
    "print(\"fids:\", fids)\n",
    "\n",
    "\n",
    "def fit_model(inputs, k1, k2, k3, k4, k5, k6, k7):\n",
    "    row_emd = np.array(inputs[:, 0])\n",
    "    ds = np.array(inputs[:, 1])\n",
    "    # emd = k4 * np.exp(-((row_emd+k5)/k6)**2)\n",
    "    emd = k4 * row_emd + k5\n",
    "    # print(\"emd:\",emd,\"row_emd:\",row_emd)\n",
    "    # ret =  k1 + k2 * np.exp(-( k3 * np.power(k4 *(ds-k5), k6*emd+k7))) + k8 * emd\n",
    "    # ret = k1 * np.exp(-k2*(  k3*ds - k3*emd +k5)) + k6\n",
    "    ret = k6 * (emd - k1*np.exp(-k2*np.power(k3*ds, k7*emd)))\n",
    "    return ret\n",
    "\n",
    "\n",
    "emds = np.array(emds)  # (,m)\n",
    "datasizes = np.array(datasizes)  # (,m)\n",
    "inputs = np.vstack((emds, datasizes)).T\n",
    "# print(\"input.shape=\",inputs.shape)\n",
    "outputs = np.array(fids)\n",
    "# print(\"output.shape=\",outputs.shape)\n",
    "init_val = [\n",
    "    1.04862905,  # k1\n",
    "    0.00754393,  # k2\n",
    "    0.12757985,  # k3\n",
    "    -0.14609729,  # k4\n",
    "    1.12451824,  # k5\n",
    "    0.4354343,  # k6\n",
    "    1,  # k7\n",
    "]\n",
    "popt, pcov = curve_fit(fit_model, inputs, outputs, p0=init_val, maxfev=500000)\n",
    "print(\"popt:\", popt)\n",
    "# popt: [1.04862905 0.00855756 0.11129809 1.13285469 0.36742541 3.52175285 0.43404247]\n",
    "emds = [0, 0.4, 0.8, 1.0]\n",
    "for emd in emds:\n",
    "    datasizes = np.linspace(100, 6000, 100)\n",
    "    inputs = np.vstack((np.array([emd]*len(datasizes)), datasizes)).T\n",
    "    plt.plot(datasizes, fit_model(inputs, *popt),\n",
    "            \"--\", linewidth=2,label=f\"Fitted Function(emd={emd})\")\n",
    "    plt.legend()"
   ]
  }
 ],
 "metadata": {
  "kernelspec": {
   "display_name": "base",
   "language": "python",
   "name": "python3"
  },
  "language_info": {
   "codemirror_mode": {
    "name": "ipython",
    "version": 3
   },
   "file_extension": ".py",
   "mimetype": "text/x-python",
   "name": "python",
   "nbconvert_exporter": "python",
   "pygments_lexer": "ipython3",
   "version": "3.11.7"
  },
  "orig_nbformat": 4
 },
 "nbformat": 4,
 "nbformat_minor": 2
}
